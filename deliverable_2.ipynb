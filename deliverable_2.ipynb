{
 "cells": [
  {
   "cell_type": "markdown",
   "id": "fcab3d25",
   "metadata": {},
   "source": [
    "Importing"
   ]
  },
  {
   "cell_type": "code",
   "execution_count": 2,
   "id": "98d18849",
   "metadata": {},
   "outputs": [],
   "source": [
    "import pandas as pd\n"
   ]
  },
  {
   "cell_type": "markdown",
   "id": "8aad83e2",
   "metadata": {},
   "source": [
    "Preprocessing"
   ]
  },
  {
   "cell_type": "code",
   "execution_count": 3,
   "id": "c0fec412",
   "metadata": {},
   "outputs": [
    {
     "name": "stdout",
     "output_type": "stream",
     "text": [
      "1s: 342, 0s: 549\n",
      "int64\n",
      "[0 1]\n"
     ]
    }
   ],
   "source": [
    "train_df = pd.read_csv(\"data/train.csv\")\n",
    "test_df = pd.read_csv(\"data/test.csv\")\n",
    "\n",
    "num_ones = (train_df[\"Survived\"] == 1).sum()\n",
    "num_zeros = (train_df[\"Survived\"] == 0).sum()\n",
    "print(f\"1s: {num_ones}, 0s: {num_zeros}\")\n",
    "\n",
    "print(train_df[\"Survived\"].dtype)\n",
    "print(train_df[\"Survived\"].unique())"
   ]
  },
  {
   "cell_type": "markdown",
   "id": "59252837",
   "metadata": {},
   "source": [
    "Dummy Results"
   ]
  },
  {
   "cell_type": "code",
   "execution_count": null,
   "id": "2de7962c",
   "metadata": {},
   "outputs": [],
   "source": [
    "most_frequent_value = train_df[\"Survived\"].mode().iloc[0]\n",
    "\n",
    "submission_df = test_df[[\"PassengerId\"]].copy()\n",
    "submission_df[\"Survived\"] = most_frequent_value\n",
    "\n",
    "submission_df.to_csv(\"submissions/deliverable_2/dummy_submission.csv\", index=False)"
   ]
  }
 ],
 "metadata": {
  "kernelspec": {
   "display_name": ".venv",
   "language": "python",
   "name": "python3"
  },
  "language_info": {
   "codemirror_mode": {
    "name": "ipython",
    "version": 3
   },
   "file_extension": ".py",
   "mimetype": "text/x-python",
   "name": "python",
   "nbconvert_exporter": "python",
   "pygments_lexer": "ipython3",
   "version": "3.13.1"
  }
 },
 "nbformat": 4,
 "nbformat_minor": 5
}
