{
 "cells": [
  {
   "cell_type": "markdown",
   "id": "fcab3d25",
   "metadata": {},
   "source": [
    "Importing"
   ]
  },
  {
   "cell_type": "code",
   "execution_count": null,
   "id": "98d18849",
   "metadata": {},
   "outputs": [],
   "source": [
    "import warnings\n",
    "# import cmle\n",
    "import random\n",
    "import numpy as np\n",
    "import pandas as pd\n",
    "from sklearn.compose import make_column_transformer\n",
    "from sklearn.dummy import DummyClassifier\n",
    "from sklearn.impute import SimpleImputer\n",
    "from sklearn.metrics import accuracy_score\n",
    "from sklearn.model_selection import cross_validate, train_test_split\n",
    "from sklearn.neighbors import KNeighborsClassifier\n",
    "from sklearn.pipeline import make_pipeline\n",
    "from sklearn.preprocessing import OneHotEncoder, OrdinalEncoder, StandardScaler\n",
    "from sklearn.tree import DecisionTreeClassifier\n",
    "from sklearn.ensemble import RandomForestClassifier\n",
    "\n"
   ]
  },
  {
   "cell_type": "markdown",
   "id": "8aad83e2",
   "metadata": {},
   "source": [
    "Preprocessing"
   ]
  },
  {
   "cell_type": "code",
   "execution_count": null,
   "id": "c0fec412",
   "metadata": {},
   "outputs": [
    {
     "name": "stdout",
     "output_type": "stream",
     "text": [
      "1s: 342, 0s: 549\n",
      "int64\n",
      "[0 1]\n"
     ]
    }
   ],
   "source": [
    "train_df = pd.read_csv(\"data/train.csv\")\n",
    "test_df = pd.read_csv(\"data/test.csv\")\n",
    "\n",
    "X_train = train_df.drop(columns=[\"Survived\"])\n",
    "y_train = train_df[\"Survived\"]\n",
    "\n",
    "numeric_features = [\"Age\", \"Pclass\", \"SibSp\", \"Parch\", \"Fare\"]\n",
    "categorical_features = [\"Embarked\", \"Cabin\", \"Ticket\"]\n",
    "binary_features = [\"Sex\"]\n",
    "# drop name and passengerid\n",
    "\n",
    "num_tran = StandardScaler()\n",
    "cat_tran = make_pipeline(\n",
    "    SimpleImputer(strategy=\"most_frequent\"),\n",
    "    OneHotEncoder(handle_unknown=\"ignore\",sparse_output=False)\n",
    ")\n",
    "bin_tran = OneHotEncoder(drop=\"if_binary\",sparse_output=False)\n",
    "\n",
    "preprocessor = make_column_transformer(\n",
    "    (num_tran, numeric_features),\n",
    "    (cat_tran, categorical_features),\n",
    "    (bin_tran, binary_features),\n",
    "    remainder = \"drop\"\n",
    ")\n",
    "\n",
    "X_train_transformed = preprocessor.fit_transform(X_train)"
   ]
  },
  {
   "cell_type": "markdown",
   "id": "59252837",
   "metadata": {},
   "source": [
    "Dummy Results"
   ]
  },
  {
   "cell_type": "code",
   "execution_count": null,
   "id": "2de7962c",
   "metadata": {},
   "outputs": [],
   "source": [
    "base_pipe = make_pipeline(\n",
    "    preprocessor,\n",
    "    DummyClassifier(strategy=\"most_frequent\")\n",
    ")\n",
    "base_pipe.fit(X_train, y_train)\n",
    "predictions = base_pipe.predict(test_df)\n",
    "\n",
    "submission_df = test_df[[\"PassengerId\"]].copy()\n",
    "submission_df[\"Survived\"] = predictions\n",
    "submission_df.to_csv(\"submissions/deliverable_3/dummy_submission.csv\", index=False)"
   ]
  }
 ],
 "metadata": {
  "kernelspec": {
   "display_name": ".venv",
   "language": "python",
   "name": "python3"
  },
  "language_info": {
   "codemirror_mode": {
    "name": "ipython",
    "version": 3
   },
   "file_extension": ".py",
   "mimetype": "text/x-python",
   "name": "python",
   "nbconvert_exporter": "python",
   "pygments_lexer": "ipython3",
   "version": "3.13.1"
  }
 },
 "nbformat": 4,
 "nbformat_minor": 5
}
